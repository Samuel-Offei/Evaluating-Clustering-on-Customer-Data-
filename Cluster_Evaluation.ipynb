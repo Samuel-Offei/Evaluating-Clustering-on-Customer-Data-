{
 "cells": [
  {
   "cell_type": "markdown",
   "id": "2a6ffc0a",
   "metadata": {},
   "source": [
    "## Evaluating Clustering on Customer Data"
   ]
  },
  {
   "cell_type": "markdown",
   "id": "93ff8188-4f08-496c-a205-34514ca64d96",
   "metadata": {},
   "source": [
    "### No. 1 Import the necessary libraries for data handling, clustering, and visualization. Import data from customer_offers.csv into a pandas DataFrame!"
   ]
  },
  {
   "cell_type": "code",
   "execution_count": 2,
   "id": "630dcff4",
   "metadata": {},
   "outputs": [],
   "source": [
    "# Importing necessary libraries\n",
    "import numpy as np, pandas as pd\n",
    "import matplotlib.pyplot as plt\n",
    "import seaborn as sns\n",
    "%matplotlib inline\n",
    "from sklearn.model_selection import train_test_split\n",
    "from sklearn.cluster import KMeans\n",
    "from sklearn.metrics import silhouette_score \n",
    "from sklearn.cluster import MeanShift, estimate_bandwidth\n",
    "from kmodes.kmodes import KModes"
   ]
  },
  {
   "cell_type": "markdown",
   "id": "b93c412b-6205-4fb8-b8bd-7fe325d15ef7",
   "metadata": {},
   "source": [
    "### No. 2 Print the top five rows of the DataFrame!"
   ]
  },
  {
   "cell_type": "code",
   "execution_count": 3,
   "id": "21f8935a",
   "metadata": {
    "scrolled": true
   },
   "outputs": [
    {
     "data": {
      "text/html": [
       "<div>\n",
       "<style scoped>\n",
       "    .dataframe tbody tr th:only-of-type {\n",
       "        vertical-align: middle;\n",
       "    }\n",
       "\n",
       "    .dataframe tbody tr th {\n",
       "        vertical-align: top;\n",
       "    }\n",
       "\n",
       "    .dataframe thead th {\n",
       "        text-align: right;\n",
       "    }\n",
       "</style>\n",
       "<table border=\"1\" class=\"dataframe\">\n",
       "  <thead>\n",
       "    <tr style=\"text-align: right;\">\n",
       "      <th></th>\n",
       "      <th>1</th>\n",
       "      <th>2</th>\n",
       "      <th>3</th>\n",
       "      <th>4</th>\n",
       "      <th>5</th>\n",
       "      <th>6</th>\n",
       "      <th>7</th>\n",
       "      <th>8</th>\n",
       "      <th>9</th>\n",
       "      <th>10</th>\n",
       "      <th>...</th>\n",
       "      <th>23</th>\n",
       "      <th>24</th>\n",
       "      <th>25</th>\n",
       "      <th>26</th>\n",
       "      <th>27</th>\n",
       "      <th>28</th>\n",
       "      <th>29</th>\n",
       "      <th>30</th>\n",
       "      <th>31</th>\n",
       "      <th>32</th>\n",
       "    </tr>\n",
       "  </thead>\n",
       "  <tbody>\n",
       "    <tr>\n",
       "      <th>0</th>\n",
       "      <td>0</td>\n",
       "      <td>0</td>\n",
       "      <td>0</td>\n",
       "      <td>0</td>\n",
       "      <td>0</td>\n",
       "      <td>0</td>\n",
       "      <td>0</td>\n",
       "      <td>0</td>\n",
       "      <td>0</td>\n",
       "      <td>0</td>\n",
       "      <td>...</td>\n",
       "      <td>0</td>\n",
       "      <td>0</td>\n",
       "      <td>0</td>\n",
       "      <td>0</td>\n",
       "      <td>0</td>\n",
       "      <td>0</td>\n",
       "      <td>1</td>\n",
       "      <td>1</td>\n",
       "      <td>0</td>\n",
       "      <td>0</td>\n",
       "    </tr>\n",
       "    <tr>\n",
       "      <th>1</th>\n",
       "      <td>0</td>\n",
       "      <td>0</td>\n",
       "      <td>0</td>\n",
       "      <td>0</td>\n",
       "      <td>0</td>\n",
       "      <td>0</td>\n",
       "      <td>0</td>\n",
       "      <td>0</td>\n",
       "      <td>1</td>\n",
       "      <td>0</td>\n",
       "      <td>...</td>\n",
       "      <td>0</td>\n",
       "      <td>0</td>\n",
       "      <td>0</td>\n",
       "      <td>0</td>\n",
       "      <td>1</td>\n",
       "      <td>0</td>\n",
       "      <td>0</td>\n",
       "      <td>0</td>\n",
       "      <td>0</td>\n",
       "      <td>0</td>\n",
       "    </tr>\n",
       "    <tr>\n",
       "      <th>2</th>\n",
       "      <td>0</td>\n",
       "      <td>0</td>\n",
       "      <td>0</td>\n",
       "      <td>0</td>\n",
       "      <td>0</td>\n",
       "      <td>0</td>\n",
       "      <td>0</td>\n",
       "      <td>0</td>\n",
       "      <td>0</td>\n",
       "      <td>0</td>\n",
       "      <td>...</td>\n",
       "      <td>0</td>\n",
       "      <td>1</td>\n",
       "      <td>0</td>\n",
       "      <td>1</td>\n",
       "      <td>0</td>\n",
       "      <td>0</td>\n",
       "      <td>0</td>\n",
       "      <td>0</td>\n",
       "      <td>0</td>\n",
       "      <td>0</td>\n",
       "    </tr>\n",
       "    <tr>\n",
       "      <th>3</th>\n",
       "      <td>0</td>\n",
       "      <td>0</td>\n",
       "      <td>0</td>\n",
       "      <td>0</td>\n",
       "      <td>0</td>\n",
       "      <td>0</td>\n",
       "      <td>1</td>\n",
       "      <td>0</td>\n",
       "      <td>0</td>\n",
       "      <td>0</td>\n",
       "      <td>...</td>\n",
       "      <td>0</td>\n",
       "      <td>0</td>\n",
       "      <td>0</td>\n",
       "      <td>0</td>\n",
       "      <td>0</td>\n",
       "      <td>0</td>\n",
       "      <td>0</td>\n",
       "      <td>1</td>\n",
       "      <td>0</td>\n",
       "      <td>0</td>\n",
       "    </tr>\n",
       "    <tr>\n",
       "      <th>4</th>\n",
       "      <td>0</td>\n",
       "      <td>0</td>\n",
       "      <td>0</td>\n",
       "      <td>0</td>\n",
       "      <td>0</td>\n",
       "      <td>0</td>\n",
       "      <td>1</td>\n",
       "      <td>0</td>\n",
       "      <td>0</td>\n",
       "      <td>1</td>\n",
       "      <td>...</td>\n",
       "      <td>0</td>\n",
       "      <td>0</td>\n",
       "      <td>0</td>\n",
       "      <td>0</td>\n",
       "      <td>0</td>\n",
       "      <td>0</td>\n",
       "      <td>0</td>\n",
       "      <td>0</td>\n",
       "      <td>1</td>\n",
       "      <td>0</td>\n",
       "    </tr>\n",
       "  </tbody>\n",
       "</table>\n",
       "<p>5 rows × 32 columns</p>\n",
       "</div>"
      ],
      "text/plain": [
       "   1  2  3  4  5  6  7  8  9  10  ...  23  24  25  26  27  28  29  30  31  32\n",
       "0  0  0  0  0  0  0  0  0  0   0  ...   0   0   0   0   0   0   1   1   0   0\n",
       "1  0  0  0  0  0  0  0  0  1   0  ...   0   0   0   0   1   0   0   0   0   0\n",
       "2  0  0  0  0  0  0  0  0  0   0  ...   0   1   0   1   0   0   0   0   0   0\n",
       "3  0  0  0  0  0  0  1  0  0   0  ...   0   0   0   0   0   0   0   1   0   0\n",
       "4  0  0  0  0  0  0  1  0  0   1  ...   0   0   0   0   0   0   0   0   1   0\n",
       "\n",
       "[5 rows x 32 columns]"
      ]
     },
     "execution_count": 3,
     "metadata": {},
     "output_type": "execute_result"
    }
   ],
   "source": [
    "Customer_data= pd.read_csv(\"customer_offers.csv\")\n",
    "Customer_data.head()"
   ]
  },
  {
   "cell_type": "markdown",
   "id": "ab1060fc-da2c-4b0b-b008-0ed8c19d50fc",
   "metadata": {},
   "source": [
    "#### Interpretation\n",
    "\n",
    "The dataset shown appears to be binary data indicating customer responses to various offers, with columns representing different offers (1 to 32). Each row represents a customer, and the binary values (0 or 1) indicate whether the customer accepted (1) or did not accept (0) the respective offer. The first few rows display different patterns of offer acceptance among customers."
   ]
  },
  {
   "attachments": {},
   "cell_type": "markdown",
   "id": "b3d6adfd-b39f-4955-8df0-f2dd83908fa5",
   "metadata": {},
   "source": [
    "### No. 3 Divide the dataset into train and test sets by using the train test_split method from scikit-learn. Specify random_state as 100 for consistency"
   ]
  },
  {
   "cell_type": "code",
   "execution_count": 6,
   "id": "286d0f99-fdfb-4244-acd1-cd711e7cdcdd",
   "metadata": {},
   "outputs": [],
   "source": [
    "# Splitting the dataset into training and testing sets\n",
    "df_train, df_test = train_test_split (Customer_data, train_size=75,\n",
    "random_state=100)"
   ]
  },
  {
   "cell_type": "code",
   "execution_count": 8,
   "id": "26c8c99a",
   "metadata": {},
   "outputs": [
    {
     "name": "stdout",
     "output_type": "stream",
     "text": [
      "(75, 32)\n",
      "(25, 32)\n"
     ]
    }
   ],
   "source": [
    "print(df_train.shape) \n",
    "print(df_test.shape)"
   ]
  },
  {
   "cell_type": "markdown",
   "id": "3d3762ea-38f6-4891-8976-840717c29020",
   "metadata": {},
   "source": [
    "#### Interpretation\n",
    "\n",
    "The dataset is split into training and testing sets using an 75:25 ratio. The training set consists of 75 samples with 32 features each, while the testing set consists of 25 samples, also with 32 features each. This split is to prepare for model training and evaluation."
   ]
  },
  {
   "attachments": {},
   "cell_type": "markdown",
   "id": "786357e2-5b55-417b-9653-853f19d12f0d",
   "metadata": {},
   "source": [
    "## No. 4 Perform k-means on the data. Identify the optimal number of clusters by using the silhouette score approach on the train data by plotting the score for the different number of clusters, varying from 2 through 10."
   ]
  },
  {
   "cell_type": "code",
   "execution_count": 49,
   "id": "8273eaf1-2af8-4d01-8307-0e3a4dd8d6e7",
   "metadata": {},
   "outputs": [
    {
     "name": "stdout",
     "output_type": "stream",
     "text": [
      "0.11983176694269196\n"
     ]
    }
   ],
   "source": [
    "model = KMeans(n_clusters=3, n_init=10, random_state=42) \n",
    "cluster_assignments = model.fit_predict(Customer_data)\n",
    "silhouette_avg = silhouette_score(Customer_data, cluster_assignments) \n",
    "print(silhouette_avg)"
   ]
  },
  {
   "cell_type": "code",
   "execution_count": 55,
   "id": "e2cc292a-3591-4581-adbf-15adca7c3973",
   "metadata": {
    "scrolled": true
   },
   "outputs": [
    {
     "data": {
      "image/png": "[encoded data removed]",
      "text/plain": [
       "<Figure size 1000x600 with 1 Axes>"
      ]
     },
     "metadata": {},
     "output_type": "display_data"
    }
   ],
   "source": [
    "# Initialize lists to store the number of clusters and their corresponding silhouette scores\n",
    "num_clusters = list(range(2, 11))\n",
    "silhouette_scores = []\n",
    "\n",
    "# Perform k-means clustering with different numbers of clusters and calculate silhouette scores\n",
    "for k in num_clusters:\n",
    "    kmeans = KMeans(n_clusters=k, n_init=10, init=\"random\", random_state=100)\n",
    "    cluster_labels = kmeans.fit_predict(df_train)\n",
    "    silhouette_avg = silhouette_score(df_train, cluster_labels)\n",
    "    silhouette_scores.append(silhouette_avg)\n",
    "\n",
    "# Plot the silhouette scores\n",
    "plt.figure(figsize=(10, 6))\n",
    "plt.plot(num_clusters, silhouette_scores, marker='o')\n",
    "plt.xlabel('Number of clusters')\n",
    "plt.ylabel('Average Silhouette Score')\n",
    "plt.yticks(np.arange(0.10, 0.15, 0.005))\n",
    "plt.title('Silhouette scores for different number of clusters')\n",
    "plt.show()"
   ]
  },
  {
   "cell_type": "markdown",
   "id": "e531014a-b430-456a-a769-f60afda79b29",
   "metadata": {},
   "source": [
    "#### Interpretation\n",
    "\n",
    "This graph shows the average silhouette scores for different numbers of clusters, indicating the effectiveness of clustering. The silhouette score measures how similar an object is to its own cluster compared to other clusters. The highest score is around 4 clusters, suggesting that using 4 clusters might be the most effective for this dataset. However, there are other peaks at 5 and 9 clusters, indicating potential alternative clustering options."
   ]
  },
  {
   "cell_type": "markdown",
   "id": "78a8ed02-2f38-45db-80d1-ab9a8833e2b5",
   "metadata": {},
   "source": [
    "## No. 5"
   ]
  },
  {
   "cell_type": "code",
   "execution_count": 358,
   "id": "9bc386ec-a7b8-4ec5-9ff2-42379662cb4f",
   "metadata": {},
   "outputs": [
    {
     "name": "stdout",
     "output_type": "stream",
     "text": [
      "The optimal number of clusters is 8 with a silhouette score of 0.1081864497780519\n",
      "Silhouette Score for the test set with 8 clusters: 0.01628336587423734\n"
     ]
    }
   ],
   "source": [
    "# Determine the optimal number of clusters\n",
    "optimal_k = num_clusters[silhouette_scores.index(max(silhouette_scores))]\n",
    "print(f\"The optimal number of clusters is {optimal_k} with a silhouette score of {max(silhouette_scores)}\")\n",
    "\n",
    "# Perform k-means clustering using the optimal number of clusters\n",
    "kmeans = KMeans(n_clusters=optimal_k, n_init=10, random_state=100)\n",
    "train_cluster_labels = kmeans.fit_predict(df_train)\n",
    "test_cluster_labels = kmeans.predict(df_test)\n",
    "\n",
    "# # Print the silhouette score for the training set\n",
    "# train_silhouette_score = silhouette_score(df_train, train_cluster_labels)\n",
    "# print(f\"Silhouette Score for the training set with {optimal_k} clusters: {train_silhouette_score}\")\n",
    "\n",
    "# Print the silhouette score for the testing set\n",
    "test_silhouette_score_kmeans = silhouette_score(df_test, test_cluster_labels)\n",
    "print(f\"Silhouette Score for the test set with {optimal_k} clusters: {test_silhouette_score_kmeans}\")\n",
    "\n",
    "# Output the test set with cluster labels\n",
    "test_data_with_clusters = df_test.copy()\n",
    "test_data_with_clusters['Cluster'] = test_cluster_labels\n",
    "\n",
    "# # # Display the test set with cluster labels\n",
    "# print(test_data_with_clusters)"
   ]
  },
  {
   "cell_type": "markdown",
   "id": "25e56805-50fe-4591-9a8b-be04e1eef3a8",
   "metadata": {},
   "source": [
    "#### Interpretation\n",
    "\n",
    "The optimal number of clusters determined is 8, with a silhouette score of 0.1081864497780519. K-means clustering was performed with these 8 clusters on the training set, and the resulting model was used to predict cluster labels for the testing set. The silhouette score for the test set with 8 clusters was 0.01628336587423734, indicating the clustering's effectiveness."
   ]
  },
  {
   "cell_type": "markdown",
   "id": "ce009801-271c-4e99-9954-cee922290754",
   "metadata": {},
   "source": [
    "## No. 6"
   ]
  },
  {
   "cell_type": "code",
   "execution_count": 352,
   "id": "f45ec1bc-1890-4c70-a176-3a7c6a7e9b1d",
   "metadata": {},
   "outputs": [
    {
     "name": "stdout",
     "output_type": "stream",
     "text": [
      "Estimated bandwidth: 1.7326705560624585\n",
      "Silhouette Score for the test set : 0.07308587709358311\n"
     ]
    }
   ],
   "source": [
    "# Estimate the bandwidth\n",
    "bandwidth = estimate_bandwidth(df_train, quantile=0.1, random_state=100)\n",
    "print(f\"Estimated bandwidth: {bandwidth}\")\n",
    "\n",
    "# Perform mean-shift clustering\n",
    "mean_shift = MeanShift(bandwidth=bandwidth, bin_seeding=True)\n",
    "mean_shift.fit(df_train)\n",
    "train_labels = mean_shift.labels_\n",
    "\n",
    "# Predict cluster labels for the test set\n",
    "test_labels = mean_shift.predict(df_test)\n",
    "\n",
    "# Print the silhouette score for the test set\n",
    "silhouette_avg = silhouette_score(df_test, test_labels)\n",
    "print(f\"Silhouette Score for the test set : {silhouette_avg}\")"
   ]
  },
  {
   "cell_type": "markdown",
   "id": "8911b80d-2d77-4a91-a513-ba6d1beab1df",
   "metadata": {},
   "source": [
    "#### Interpretation\n",
    "\n",
    "The bandwidth for mean-shift clustering was estimated at 1.7326705560624585. The mean-shift clustering was performed using this bandwidth, producing cluster labels for the training and testing sets. The silhouette score for the test set with mean-shift clustering was 0.07308587709358311, indicating the quality of clustering."
   ]
  },
  {
   "cell_type": "markdown",
   "id": "30924cca-20ec-4f81-8de6-c54b3fed721b",
   "metadata": {},
   "source": [
    "## No. 7"
   ]
  },
  {
   "cell_type": "code",
   "execution_count": 366,
   "id": "de95cafc-93e7-43fa-a70d-f5c9a84b99c8",
   "metadata": {
    "scrolled": true
   },
   "outputs": [
    {
     "data": {
      "image/png": "[encoded data removed]",
      "text/plain": [
       "<Figure size 1000x600 with 1 Axes>"
      ]
     },
     "metadata": {},
     "output_type": "display_data"
    },
    {
     "name": "stdout",
     "output_type": "stream",
     "text": [
      "The optimal number of clusters is 8 with a silhouette score of 0.1081864497780519\n",
      "Silhouette Score for the test set with 8 clusters: -0.0030762166667187103\n"
     ]
    }
   ],
   "source": [
    "# Initialize lists to store the number of clusters and their corresponding silhouette scores\n",
    "num_clusters = list(range(3, 11))\n",
    "silhouette_scores = []\n",
    "\n",
    "# Perform k-modes clustering with different numbers of clusters and calculate silhouette scores\n",
    "for k in num_clusters:\n",
    "    km = KModes(n_clusters=k, init='Huang', n_init=10, random_state=100)\n",
    "    cluster_labels = km.fit_predict(df_train)\n",
    "    silhouette_avg = silhouette_score(df_train, cluster_labels)\n",
    "    silhouette_scores.append(silhouette_avg)\n",
    "\n",
    "# Plot the silhouette scores\n",
    "plt.figure(figsize=(10, 6))\n",
    "plt.plot(num_clusters, silhouette_scores, marker='o')\n",
    "plt.xlabel('Number of clusters')\n",
    "plt.ylabel('Average Silhouette Score')\n",
    "plt.title('Silhouette scores for different K for K-modes')\n",
    "plt.show()\n",
    "\n",
    "# Determine the optimal number of clusters\n",
    "optimal_k = num_clusters[silhouette_scores.index(max(silhouette_scores))]\n",
    "print(f\"The optimal number of clusters is {optimal_k} with a silhouette score of {max(silhouette_scores)}\")\n",
    "\n",
    "# Perform k-modes clustering using the optimal number of clusters\n",
    "km = KModes(n_clusters=optimal_k, init='Huang', n_init=10, random_state=100)\n",
    "train_cluster_labels = km.fit_predict(df_train)\n",
    "test_cluster_labels = km.predict(df_test)\n",
    "\n",
    "# Print the silhouette score for the test set\n",
    "test_silhouette_score = silhouette_score(df_test, test_cluster_labels)\n",
    "print(f\"Silhouette Score for the test set with {optimal_k} clusters: {test_silhouette_score}\")\n",
    "\n",
    "# Output the test set with cluster labels\n",
    "test_data_with_clusters = df_test.copy()\n",
    "test_data_with_clusters['Cluster'] = test_cluster_labels\n",
    "\n",
    "# # Display the test set with cluster labels\n",
    "# print(test_data_with_clusters)"
   ]
  },
  {
   "cell_type": "markdown",
   "id": "b174abe5-8970-4e57-9204-054716e8da3a",
   "metadata": {},
   "source": [
    "#### Interpretation\n",
    "\n",
    "The graph shows silhouette scores for different numbers of clusters using K-modes clustering. The optimal number of clusters is identified as 8, with the highest silhouette score of 0.1081864497780519. However, the silhouette score for the test set with these 8 clusters is -0.0030762166667187103, indicating poor clustering performance on the test data."
   ]
  },
  {
   "cell_type": "markdown",
   "id": "7de06ffb-9dca-4843-9f2b-654f45f5496c",
   "metadata": {},
   "source": [
    "## No. 8"
   ]
  },
  {
   "cell_type": "code",
   "execution_count": 368,
   "id": "2c4d9f43-fc3d-4b4d-9e4e-9da36e331899",
   "metadata": {},
   "outputs": [
    {
     "name": "stdout",
     "output_type": "stream",
     "text": [
      "Silhouette Score for the test set with 8 clusters: -0.0030762166667187103\n"
     ]
    }
   ],
   "source": [
    "# Optimal number of clusters from the previous step\n",
    "optimal_k = 8  # Replace with the actual value you found\n",
    "\n",
    "# Perform k-modes clustering using the optimal number of clusters\n",
    "km = KModes(n_clusters=optimal_k, init='Huang', n_init=10, random_state=100)\n",
    "train_cluster_labels = km.fit_predict(df_train)\n",
    "test_cluster_labels = km.predict(df_test)\n",
    "\n",
    "# Print the silhouette score for the test set\n",
    "test_silhouette_score_kmodes = silhouette_score(df_test, test_cluster_labels)\n",
    "print(f\"Silhouette Score for the test set with {optimal_k} clusters: {test_silhouette_score_kmodes}\")\n",
    "\n",
    "# Output the test set with cluster labels\n",
    "test_data_with_clusters = df_test.copy()\n",
    "test_data_with_clusters['Cluster'] = test_cluster_labels\n",
    "\n",
    "# # Display the test set with cluster labels\n",
    "# print(test_data_with_clusters)"
   ]
  },
  {
   "cell_type": "markdown",
   "id": "ec6a83bf-cffe-40e6-be63-e4a0078c6d6e",
   "metadata": {},
   "source": [
    "#### Interpretation\n",
    "\n",
    "This is a K-modes clustering with 8 clusters, identified as the optimal number from previous analysis. The silhouette score for the test set with these 8 clusters is -0.0030762166667187103, indicating poor clustering performance. The clustering labels were predicted for the test set, but the negative silhouette score suggests the clusters do not fit well with the test data, highlighting potential issues such as data inconsistencies or suboptimal clustering parameters."
   ]
  },
  {
   "cell_type": "markdown",
   "id": "1c25b430-62d4-4454-9176-033ceea34c10",
   "metadata": {},
   "source": [
    "## No. 9"
   ]
  },
  {
   "cell_type": "code",
   "execution_count": 372,
   "id": "a2e2436f-47a8-4579-a5f9-794aadec0ff2",
   "metadata": {},
   "outputs": [
    {
     "name": "stdout",
     "output_type": "stream",
     "text": [
      "Silhouette Score for the k-means : 0.01628336587423734\n",
      "Silhouette Score for the meanshift : 0.09305801362235724\n",
      "Silhouette Score for the kmodes : -0.0030762166667187103\n",
      "The best clustering technique is mean-shift with a silhouette score of 0.09305801362235724\n"
     ]
    }
   ],
   "source": [
    "silhouette_score_kmeans = test_silhouette_score_kmeans\n",
    "silhouette_score_meanshift = silhouette_avg\n",
    "silhouette_score_kmodes = test_silhouette_score_kmodes\n",
    "\n",
    "\n",
    "scores = {\n",
    "    'k-means': silhouette_score_kmeans,\n",
    "    'mean-shift': silhouette_score_meanshift,\n",
    "    'k-modes': silhouette_score_kmodes\n",
    "}\n",
    "\n",
    "best_method = max(scores, key=scores.get)\n",
    "print(f\"Silhouette Score for the k-means : {silhouette_score_kmeans}\")\n",
    "print(f\"Silhouette Score for the meanshift : {silhouette_score_meanshift}\")\n",
    "print(f\"Silhouette Score for the kmodes : {silhouette_score_kmodes}\")\n",
    "print(f\"The best clustering technique is {best_method} with a silhouette score of {scores[best_method]}\")"
   ]
  },
  {
   "cell_type": "markdown",
   "id": "1045148f-fd01-43d1-a605-0671e933ecb0",
   "metadata": {},
   "source": [
    "#### Interpretation\n",
    "\n",
    "The code compares silhouette scores for three clustering techniques: K-means, mean-shift, and K-modes. The silhouette scores are 0.01628336587423734 for K-means, 0.09305801362235724 for mean-shift, and -0.0030762166667187103 for K-modes. The best clustering technique is determined to be mean-shift, with the highest silhouette score of 0.09305801362235724, indicating it provided the best cluster separation for the test set."
   ]
  }
 ],
 "metadata": {
  "kernelspec": {
   "display_name": "Python 3 (ipykernel)",
   "language": "python",
   "name": "python3"
  },
  "language_info": {
   "codemirror_mode": {
    "name": "ipython",
    "version": 3
   },
   "file_extension": ".py",
   "mimetype": "text/x-python",
   "name": "python",
   "nbconvert_exporter": "python",
   "pygments_lexer": "ipython3",
   "version": "3.11.5"
  }
 },
 "nbformat": 4,
 "nbformat_minor": 5
}
